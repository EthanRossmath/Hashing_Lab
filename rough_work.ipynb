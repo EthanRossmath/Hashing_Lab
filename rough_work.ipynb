{
 "cells": [
  {
   "cell_type": "code",
   "execution_count": 31,
   "id": "e5147f00",
   "metadata": {},
   "outputs": [],
   "source": [
    "import hashlib\n",
    "import base64"
   ]
  },
  {
   "cell_type": "code",
   "execution_count": null,
   "id": "1b632480",
   "metadata": {},
   "outputs": [],
   "source": [
    "def compute_padding( algorithm: str = 'md5',\n",
    "         output_format: str = 'bytes', \n",
    "         message: bytes = None,\n",
    "        ):\n",
    "    \"\"\"\n",
    "    Parameters\n",
    "    ----------\n",
    "    algorithm : str\n",
    "        One of: 'md5', 'sha256', 'sha512'\n",
    "    message : bytes\n",
    "        Data to hash. Required.\n",
    "    output_format : str\n",
    "        One of: 'bytes', 'hex', 'base64'\n",
    "    \n",
    "    Returns\n",
    "    -------\n",
    "    bytes or str\n",
    "        The padding that the given algorithm adds to the message before processing. To be used in implementation of the length extension attack. \n",
    "    \"\"\"\n",
    "    # Importing necessary libraries\n",
    "    import hashlib\n",
    "    import base64\n",
    "\n",
    "    # Handling input errors\n",
    "    valid_algorithms = ['md5', 'sha256', 'sha512']\n",
    "    valid_formats = ['bytes', 'hex', 'base64']\n",
    "\n",
    "    if algorithm not in valid_algorithms:\n",
    "        return ValueError('Algorithm must be one of md5, sha256, or sha512')\n",
    "    \n",
    "    if output_format not in valid_formats:\n",
    "        return ValueError('Output format must be one of bytes, hex, or base64')\n",
    "    \n",
    "    if not isinstance(message, bytes):\n",
    "        return TypeError(\"Message must have type 'bytes\")\n",
    "    \n",
    "    # padding\n",
    "\n",
    "    L = 8 * len(message) # compute the length of the message in binary\n",
    "    len_in_binary = bytes([L]) # convert the length to bytes\n",
    "    K = 0 # initializing the number of zeroes to computed according to the encryption method\n",
    "    \n",
    "    # md5 padding\n",
    "\n",
    "    if algorithm == 'md5' or 'sha256':\n",
    "        K = (448 - L - 1) % 512\n",
    "\n",
    "    else:\n",
    "        K = (896 - L - 1) % 1024\n",
    "\n",
    "    one_place = K % 8\n",
    "    extra_zeroes = (K - one_place) // 8\n",
    "\n",
    "    bytes_pad = bytes([1 << one_place]) + bytes(extra_zeroes) + len_in_binary\n",
    "        \n",
    "\n",
    "    if output_format == 'bytes':\n",
    "        return bytes_pad\n",
    "    if output_format == 'hex':\n",
    "        return bytes_pad.hex()\n",
    "    if output_format == 'base64':\n",
    "        return base64.b64encode(bytes_pad)\n",
    "        \n",
    "    \n",
    "\n",
    "\n",
    "\n",
    "\n",
    "\n",
    "\n",
    "    \n",
    "\n",
    "    "
   ]
  },
  {
   "cell_type": "code",
   "execution_count": 88,
   "id": "713fc0d1",
   "metadata": {},
   "outputs": [
    {
     "data": {
      "text/plain": [
       "b'\\x80\\x00\\x00\\x00\\x00\\x00\\x00\\x00\\x00\\x00\\x00\\x00\\x00\\x00\\x00\\x00\\x00\\x00\\x00\\x00\\x00\\x00\\x00\\x00\\x00\\x00\\x00\\x00\\x00\\x00\\x00\\x00\\x00\\x00\\x00\\x00\\x00\\x00\\x00\\x00\\x00\\x00\\x00\\x00\\x00\\x00\\x00\\x00\\x00\\x00\\x00('"
      ]
     },
     "execution_count": 88,
     "metadata": {},
     "output_type": "execute_result"
    }
   ],
   "source": [
    "compute_padding(message=b'Hello', output_format='bytes', algorithm='sha256')"
   ]
  },
  {
   "cell_type": "code",
   "execution_count": 79,
   "id": "d0b0f9cb",
   "metadata": {},
   "outputs": [
    {
     "name": "stdout",
     "output_type": "stream",
     "text": [
      "0b1000000000000000000000000000000000000000000000000000000000000000000000000000000000000000000000000000000000000000000000000000000000000000000000000000000000000000000000000000000000000000000000000000000000000000000000000000000000000000000000000000000000000000000000000000000000000000000000000000000000000000000000000000000000000000000000000000000000000000000000000000000000000000000000000000000000000000000000000000000000000000000000000000000000000101000\n"
     ]
    }
   ],
   "source": [
    "b = compute_padding(message=b'Hello', output_format='bytes', algorithm='sha256')\n",
    "binary_str = bin(int.from_bytes(b, 'big'))  # or 'little' depending on byte order\n",
    "print(binary_str)  # Output: '0b100000111111111'"
   ]
  },
  {
   "cell_type": "code",
   "execution_count": null,
   "id": "cc928da8",
   "metadata": {},
   "outputs": [
    {
     "data": {
      "text/plain": [
       "444"
      ]
     },
     "execution_count": 86,
     "metadata": {},
     "output_type": "execute_result"
    }
   ],
   "source": [
    "L = len(binary_str)\n",
    "K = L - 3 - 6\n",
    "K\n"
   ]
  },
  {
   "cell_type": "code",
   "execution_count": null,
   "id": "da332777",
   "metadata": {},
   "outputs": [
    {
     "data": {
      "text/plain": [
       "'0xe8d4a51000'"
      ]
     },
     "execution_count": 9,
     "metadata": {},
     "output_type": "execute_result"
    }
   ],
   "source": [
    "K=12\n",
    "string_pad = '1' + ('0' * K)\n",
    "string_pad.encode()\n",
    "hex(int(string_pad))\n"
   ]
  },
  {
   "cell_type": "code",
   "execution_count": null,
   "id": "28c73959",
   "metadata": {},
   "outputs": [
    {
     "data": {
      "text/plain": [
       "'0b10000000000000000000000000000000000000000000000000000000000000000000000000000000000000000000000000000000000000000000000000000000000000000000000000000000000000000000000000000000000000000000000000000000000000000000000000000000000000000000000000000000000000000000000000000000000000000000000000000000000000000000000000000000000000000000000000000000000000000000000000000000000000000000000000000000000000000000000000000000000000000000000000000000000000000000000000000000000000000000000000000000000000000000000000000000'"
      ]
     },
     "execution_count": 25,
     "metadata": {},
     "output_type": "execute_result"
    }
   ],
   "source": [
    "bin(1 << 511)"
   ]
  },
  {
   "cell_type": "code",
   "execution_count": null,
   "id": "35250e80",
   "metadata": {},
   "outputs": [
    {
     "data": {
      "text/plain": [
       "64.0"
      ]
     },
     "execution_count": 11,
     "metadata": {},
     "output_type": "execute_result"
    }
   ],
   "source": [
    "512 / 8"
   ]
  },
  {
   "cell_type": "code",
   "execution_count": null,
   "id": "bd337961",
   "metadata": {},
   "outputs": [],
   "source": [
    "#1 make a byte for 10000000\n",
    "b = 2 ** 7\n",
    "\n",
    "# shift the binary number 1 by 7 bits to get 10000000\n",
    "c = 1 << 7\n",
    "\n",
    "#2 make into bytes object\n",
    "bs = bytes([b])\n",
    "\n",
    "#3 make a bunch of 0 bytes\n",
    "zs = bytes(63)\n",
    "\n",
    "#4 concatenate\n",
    "pad = bs + zs"
   ]
  },
  {
   "cell_type": "code",
   "execution_count": null,
   "id": "49511835",
   "metadata": {},
   "outputs": [
    {
     "data": {
      "text/plain": [
       "b'\\x00\\x00\\x00\\x00\\x00\\x00\\x00\\x00\\x00\\x00\\x00\\x00\\x00\\x00\\x00\\x00\\x00\\x00\\x00\\x00\\x00\\x00\\x00\\x00\\x00\\x00\\x00\\x00\\x00\\x00\\x00\\x00\\x00\\x00\\x00\\x00\\x00\\x00\\x00\\x00\\x00\\x00\\x00\\x00\\x00\\x00\\x00\\x00\\x00\\x00\\x00\\x00\\x00\\x00\\x00\\x00\\x00\\x00\\x00\\x00\\x00\\x00\\x00'"
      ]
     },
     "execution_count": 27,
     "metadata": {},
     "output_type": "execute_result"
    }
   ],
   "source": [
    "zs"
   ]
  },
  {
   "cell_type": "code",
   "execution_count": null,
   "id": "e6b9d123",
   "metadata": {},
   "outputs": [
    {
     "data": {
      "text/plain": [
       "b'\\x80\\x00\\x00\\x00\\x00\\x00\\x00\\x00\\x00\\x00\\x00\\x00\\x00\\x00\\x00\\x00\\x00\\x00\\x00\\x00\\x00\\x00\\x00\\x00\\x00\\x00\\x00\\x00\\x00\\x00\\x00\\x00\\x00\\x00\\x00\\x00\\x00\\x00\\x00\\x00\\x00\\x00\\x00\\x00\\x00\\x00\\x00\\x00\\x00\\x00\\x00\\x00\\x00\\x00\\x00\\x00\\x00\\x00\\x00\\x00\\x00\\x00\\x00\\x00'"
      ]
     },
     "execution_count": 29,
     "metadata": {},
     "output_type": "execute_result"
    }
   ],
   "source": [
    "pad"
   ]
  },
  {
   "cell_type": "code",
   "execution_count": null,
   "id": "3769290b",
   "metadata": {},
   "outputs": [
    {
     "data": {
      "text/plain": [
       "80"
      ]
     },
     "execution_count": 30,
     "metadata": {},
     "output_type": "execute_result"
    }
   ],
   "source": [
    "0b1010000"
   ]
  },
  {
   "cell_type": "code",
   "execution_count": 33,
   "id": "861cb86d",
   "metadata": {},
   "outputs": [],
   "source": [
    "m = b'Hello'"
   ]
  },
  {
   "cell_type": "code",
   "execution_count": 34,
   "id": "df7a2809",
   "metadata": {},
   "outputs": [
    {
     "data": {
      "text/plain": [
       "bytes"
      ]
     },
     "execution_count": 34,
     "metadata": {},
     "output_type": "execute_result"
    }
   ],
   "source": [
    "type(m)"
   ]
  },
  {
   "cell_type": "code",
   "execution_count": 35,
   "id": "c24a3a23",
   "metadata": {},
   "outputs": [
    {
     "data": {
      "text/plain": [
       "5"
      ]
     },
     "execution_count": 35,
     "metadata": {},
     "output_type": "execute_result"
    }
   ],
   "source": [
    "len(m)"
   ]
  },
  {
   "cell_type": "code",
   "execution_count": 37,
   "id": "b22307ef",
   "metadata": {},
   "outputs": [
    {
     "data": {
      "text/plain": [
       "442"
      ]
     },
     "execution_count": 37,
     "metadata": {},
     "output_type": "execute_result"
    }
   ],
   "source": [
    "K = (448 - len(m) - 1) % 512\n",
    "K"
   ]
  },
  {
   "cell_type": "code",
   "execution_count": 39,
   "id": "f8cbdf8c",
   "metadata": {},
   "outputs": [
    {
     "data": {
      "text/plain": [
       "55.25"
      ]
     },
     "execution_count": 39,
     "metadata": {},
     "output_type": "execute_result"
    }
   ],
   "source": [
    "442 /8"
   ]
  },
  {
   "cell_type": "code",
   "execution_count": 46,
   "id": "87b40b9b",
   "metadata": {},
   "outputs": [
    {
     "data": {
      "text/plain": [
       "256"
      ]
     },
     "execution_count": 46,
     "metadata": {},
     "output_type": "execute_result"
    }
   ],
   "source": [
    "int.from_bytes(bytes([1]) + bytes(1), 'big')"
   ]
  },
  {
   "cell_type": "code",
   "execution_count": 47,
   "id": "791f8be3",
   "metadata": {},
   "outputs": [
    {
     "data": {
      "text/plain": [
       "b'\\x01\\x00'"
      ]
     },
     "execution_count": 47,
     "metadata": {},
     "output_type": "execute_result"
    }
   ],
   "source": [
    "bytes([1]) + bytes(1)"
   ]
  },
  {
   "cell_type": "code",
   "execution_count": 48,
   "id": "a0b3d2c7",
   "metadata": {},
   "outputs": [
    {
     "data": {
      "text/plain": [
       "256"
      ]
     },
     "execution_count": 48,
     "metadata": {},
     "output_type": "execute_result"
    }
   ],
   "source": [
    "1 << 8"
   ]
  },
  {
   "cell_type": "code",
   "execution_count": 50,
   "id": "bd3c5e57",
   "metadata": {},
   "outputs": [
    {
     "data": {
      "text/plain": [
       "2"
      ]
     },
     "execution_count": 50,
     "metadata": {},
     "output_type": "execute_result"
    }
   ],
   "source": [
    "n = K % 8\n",
    "n"
   ]
  },
  {
   "cell_type": "code",
   "execution_count": 51,
   "id": "91b53f98",
   "metadata": {},
   "outputs": [
    {
     "data": {
      "text/plain": [
       "55"
      ]
     },
     "execution_count": 51,
     "metadata": {},
     "output_type": "execute_result"
    }
   ],
   "source": [
    "k = (K - n) // 8\n",
    "k"
   ]
  },
  {
   "cell_type": "code",
   "execution_count": 53,
   "id": "9a4bebe0",
   "metadata": {},
   "outputs": [
    {
     "data": {
      "text/plain": [
       "b'\\x04\\x00\\x00\\x00\\x00\\x00\\x00\\x00\\x00\\x00\\x00\\x00\\x00\\x00\\x00\\x00\\x00\\x00\\x00\\x00\\x00\\x00\\x00\\x00\\x00\\x00\\x00\\x00\\x00\\x00\\x00\\x00\\x00\\x00\\x00\\x00\\x00\\x00\\x00\\x00\\x00\\x00\\x00\\x00\\x00\\x00\\x00\\x00\\x00\\x00\\x00\\x00\\x00\\x00\\x00\\x00'"
      ]
     },
     "execution_count": 53,
     "metadata": {},
     "output_type": "execute_result"
    }
   ],
   "source": [
    "pad = bytes([1 << n]) + bytes(k)\n",
    "pad"
   ]
  },
  {
   "cell_type": "code",
   "execution_count": 54,
   "id": "ad79ac95",
   "metadata": {},
   "outputs": [
    {
     "name": "stdout",
     "output_type": "stream",
     "text": [
      "\n",
      "9. Hex to bytes: b'Hello!'\n",
      "   Bytes to hex: 48656c6c6f21\n"
     ]
    }
   ],
   "source": [
    "hex_str = \"48656c6c6f21\"  # \"Hello!\" in hex\n",
    "bytes_from_hex = bytes.fromhex(hex_str)\n",
    "hex_from_bytes = bytes_from_hex.hex()\n",
    "\n",
    "print(\"\\n9. Hex to bytes:\", bytes_from_hex)\n",
    "print(\"   Bytes to hex:\", hex_from_bytes)"
   ]
  },
  {
   "cell_type": "code",
   "execution_count": 63,
   "id": "d9f6033c",
   "metadata": {},
   "outputs": [
    {
     "data": {
      "text/plain": [
       "b'\\x05'"
      ]
     },
     "execution_count": 63,
     "metadata": {},
     "output_type": "execute_result"
    }
   ],
   "source": [
    "m = b'Hello'\n",
    "bytes([len(m)])"
   ]
  },
  {
   "cell_type": "code",
   "execution_count": 66,
   "id": "6370c8fb",
   "metadata": {},
   "outputs": [
    {
     "data": {
      "text/plain": [
       "4"
      ]
     },
     "execution_count": 66,
     "metadata": {},
     "output_type": "execute_result"
    }
   ],
   "source": [
    "int.from_bytes(b'\\x04', 'big')"
   ]
  },
  {
   "cell_type": "code",
   "execution_count": null,
   "id": "fdd0c85f",
   "metadata": {},
   "outputs": [],
   "source": []
  }
 ],
 "metadata": {
  "kernelspec": {
   "display_name": "Python 3",
   "language": "python",
   "name": "python3"
  },
  "language_info": {
   "codemirror_mode": {
    "name": "ipython",
    "version": 3
   },
   "file_extension": ".py",
   "mimetype": "text/x-python",
   "name": "python",
   "nbconvert_exporter": "python",
   "pygments_lexer": "ipython3",
   "version": "3.10.12"
  }
 },
 "nbformat": 4,
 "nbformat_minor": 5
}
